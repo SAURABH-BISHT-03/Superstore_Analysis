{
 "cells": [
  {
   "cell_type": "markdown",
   "id": "23f6d81c",
   "metadata": {},
   "source": [
    "## Orders Analysis"
   ]
  },
  {
   "cell_type": "code",
   "execution_count": 1,
   "id": "fdcc98f6",
   "metadata": {},
   "outputs": [],
   "source": [
    "import numpy as np \n",
    "import pandas as pd \n",
    "import matplotlib.pyplot as plt\n",
    "%matplotlib inline\n",
    "import seaborn as sns\n",
    "\n",
    "pd.set_option('display.max_columns', None)"
   ]
  },
  {
   "cell_type": "code",
   "execution_count": 2,
   "id": "2ede7f8a",
   "metadata": {},
   "outputs": [],
   "source": [
    "\n",
    "orders = pd.read_csv(r\"D:\\super store sales\\super store sales\\Orders.csv\", encoding='latin1')\n",
    "managers = pd.read_csv(r\"D:\\super store sales\\super store sales\\Managers.csv\", encoding='utf-8-sig')\n",
    "returns = pd.read_csv(r\"D:\\super store sales\\super store sales\\Returns.csv\")\n"
   ]
  },
  {
   "cell_type": "code",
   "execution_count": 3,
   "id": "0f5cc9a0",
   "metadata": {},
   "outputs": [
    {
     "data": {
      "text/html": [
       "<div>\n",
       "<style scoped>\n",
       "    .dataframe tbody tr th:only-of-type {\n",
       "        vertical-align: middle;\n",
       "    }\n",
       "\n",
       "    .dataframe tbody tr th {\n",
       "        vertical-align: top;\n",
       "    }\n",
       "\n",
       "    .dataframe thead th {\n",
       "        text-align: right;\n",
       "    }\n",
       "</style>\n",
       "<table border=\"1\" class=\"dataframe\">\n",
       "  <thead>\n",
       "    <tr style=\"text-align: right;\">\n",
       "      <th></th>\n",
       "      <th>Row ID</th>\n",
       "      <th>Order ID</th>\n",
       "      <th>Order Date</th>\n",
       "      <th>Ship Date</th>\n",
       "      <th>Ship Mode</th>\n",
       "      <th>Customer ID</th>\n",
       "      <th>Customer Name</th>\n",
       "      <th>Segment</th>\n",
       "      <th>Country</th>\n",
       "      <th>City</th>\n",
       "      <th>State</th>\n",
       "      <th>Postal Code</th>\n",
       "      <th>Region</th>\n",
       "      <th>Product ID</th>\n",
       "      <th>Category</th>\n",
       "      <th>Sub-Category</th>\n",
       "      <th>Product Name</th>\n",
       "      <th>Sales</th>\n",
       "      <th>Quantity</th>\n",
       "      <th>Discount</th>\n",
       "      <th>Profit</th>\n",
       "    </tr>\n",
       "  </thead>\n",
       "  <tbody>\n",
       "    <tr>\n",
       "      <th>0</th>\n",
       "      <td>7981</td>\n",
       "      <td>CA-2014-103800</td>\n",
       "      <td>03-01-2014</td>\n",
       "      <td>07-01-2014</td>\n",
       "      <td>Standard Class</td>\n",
       "      <td>DP-13000</td>\n",
       "      <td>Darren Powers</td>\n",
       "      <td>Consumer</td>\n",
       "      <td>United States</td>\n",
       "      <td>Houston</td>\n",
       "      <td>Texas</td>\n",
       "      <td>77095</td>\n",
       "      <td>Central</td>\n",
       "      <td>OFF-PA-10000174</td>\n",
       "      <td>Office Supplies</td>\n",
       "      <td>Paper</td>\n",
       "      <td>Message Book, Wirebound, Four 5 1/2\" X 4\" Form...</td>\n",
       "      <td>16.448</td>\n",
       "      <td>2</td>\n",
       "      <td>0.2</td>\n",
       "      <td>5.5512</td>\n",
       "    </tr>\n",
       "    <tr>\n",
       "      <th>1</th>\n",
       "      <td>740</td>\n",
       "      <td>CA-2014-112326</td>\n",
       "      <td>04-01-2014</td>\n",
       "      <td>08-01-2014</td>\n",
       "      <td>Standard Class</td>\n",
       "      <td>PO-19195</td>\n",
       "      <td>Phillina Ober</td>\n",
       "      <td>Home Office</td>\n",
       "      <td>United States</td>\n",
       "      <td>Naperville</td>\n",
       "      <td>Illinois</td>\n",
       "      <td>60540</td>\n",
       "      <td>Central</td>\n",
       "      <td>OFF-LA-10003223</td>\n",
       "      <td>Office Supplies</td>\n",
       "      <td>Labels</td>\n",
       "      <td>Avery 508</td>\n",
       "      <td>11.784</td>\n",
       "      <td>3</td>\n",
       "      <td>0.2</td>\n",
       "      <td>4.2717</td>\n",
       "    </tr>\n",
       "    <tr>\n",
       "      <th>2</th>\n",
       "      <td>741</td>\n",
       "      <td>CA-2014-112326</td>\n",
       "      <td>04-01-2014</td>\n",
       "      <td>08-01-2014</td>\n",
       "      <td>Standard Class</td>\n",
       "      <td>PO-19195</td>\n",
       "      <td>Phillina Ober</td>\n",
       "      <td>Home Office</td>\n",
       "      <td>United States</td>\n",
       "      <td>Naperville</td>\n",
       "      <td>Illinois</td>\n",
       "      <td>60540</td>\n",
       "      <td>Central</td>\n",
       "      <td>OFF-ST-10002743</td>\n",
       "      <td>Office Supplies</td>\n",
       "      <td>Storage</td>\n",
       "      <td>SAFCO Boltless Steel Shelving</td>\n",
       "      <td>272.736</td>\n",
       "      <td>3</td>\n",
       "      <td>0.2</td>\n",
       "      <td>-64.7748</td>\n",
       "    </tr>\n",
       "  </tbody>\n",
       "</table>\n",
       "</div>"
      ],
      "text/plain": [
       "   Row ID        Order ID  Order Date   Ship Date       Ship Mode Customer ID  \\\n",
       "0    7981  CA-2014-103800  03-01-2014  07-01-2014  Standard Class    DP-13000   \n",
       "1     740  CA-2014-112326  04-01-2014  08-01-2014  Standard Class    PO-19195   \n",
       "2     741  CA-2014-112326  04-01-2014  08-01-2014  Standard Class    PO-19195   \n",
       "\n",
       "   Customer Name      Segment        Country        City     State  \\\n",
       "0  Darren Powers     Consumer  United States     Houston     Texas   \n",
       "1  Phillina Ober  Home Office  United States  Naperville  Illinois   \n",
       "2  Phillina Ober  Home Office  United States  Naperville  Illinois   \n",
       "\n",
       "   Postal Code   Region       Product ID         Category Sub-Category  \\\n",
       "0        77095  Central  OFF-PA-10000174  Office Supplies        Paper   \n",
       "1        60540  Central  OFF-LA-10003223  Office Supplies       Labels   \n",
       "2        60540  Central  OFF-ST-10002743  Office Supplies      Storage   \n",
       "\n",
       "                                        Product Name    Sales  Quantity  \\\n",
       "0  Message Book, Wirebound, Four 5 1/2\" X 4\" Form...   16.448         2   \n",
       "1                                          Avery 508   11.784         3   \n",
       "2                      SAFCO Boltless Steel Shelving  272.736         3   \n",
       "\n",
       "   Discount   Profit  \n",
       "0       0.2   5.5512  \n",
       "1       0.2   4.2717  \n",
       "2       0.2 -64.7748  "
      ]
     },
     "execution_count": 3,
     "metadata": {},
     "output_type": "execute_result"
    }
   ],
   "source": [
    "orders.head(3)"
   ]
  },
  {
   "cell_type": "code",
   "execution_count": 4,
   "id": "694c13a6",
   "metadata": {},
   "outputs": [
    {
     "data": {
      "text/html": [
       "<div>\n",
       "<style scoped>\n",
       "    .dataframe tbody tr th:only-of-type {\n",
       "        vertical-align: middle;\n",
       "    }\n",
       "\n",
       "    .dataframe tbody tr th {\n",
       "        vertical-align: top;\n",
       "    }\n",
       "\n",
       "    .dataframe thead th {\n",
       "        text-align: right;\n",
       "    }\n",
       "</style>\n",
       "<table border=\"1\" class=\"dataframe\">\n",
       "  <thead>\n",
       "    <tr style=\"text-align: right;\">\n",
       "      <th></th>\n",
       "      <th>Person</th>\n",
       "      <th>Region</th>\n",
       "    </tr>\n",
       "  </thead>\n",
       "  <tbody>\n",
       "    <tr>\n",
       "      <th>0</th>\n",
       "      <td>Anna Andreadi</td>\n",
       "      <td>West</td>\n",
       "    </tr>\n",
       "    <tr>\n",
       "      <th>1</th>\n",
       "      <td>Chuck Magee</td>\n",
       "      <td>East</td>\n",
       "    </tr>\n",
       "    <tr>\n",
       "      <th>2</th>\n",
       "      <td>Kelly Williams</td>\n",
       "      <td>Central</td>\n",
       "    </tr>\n",
       "    <tr>\n",
       "      <th>3</th>\n",
       "      <td>Cassandra Brandow</td>\n",
       "      <td>South</td>\n",
       "    </tr>\n",
       "  </tbody>\n",
       "</table>\n",
       "</div>"
      ],
      "text/plain": [
       "              Person   Region\n",
       "0      Anna Andreadi     West\n",
       "1        Chuck Magee     East\n",
       "2     Kelly Williams  Central\n",
       "3  Cassandra Brandow    South"
      ]
     },
     "execution_count": 4,
     "metadata": {},
     "output_type": "execute_result"
    }
   ],
   "source": [
    "managers.head()"
   ]
  },
  {
   "cell_type": "code",
   "execution_count": 5,
   "id": "5bf2f66c",
   "metadata": {},
   "outputs": [
    {
     "data": {
      "text/html": [
       "<div>\n",
       "<style scoped>\n",
       "    .dataframe tbody tr th:only-of-type {\n",
       "        vertical-align: middle;\n",
       "    }\n",
       "\n",
       "    .dataframe tbody tr th {\n",
       "        vertical-align: top;\n",
       "    }\n",
       "\n",
       "    .dataframe thead th {\n",
       "        text-align: right;\n",
       "    }\n",
       "</style>\n",
       "<table border=\"1\" class=\"dataframe\">\n",
       "  <thead>\n",
       "    <tr style=\"text-align: right;\">\n",
       "      <th></th>\n",
       "      <th>Returned</th>\n",
       "      <th>Order ID</th>\n",
       "    </tr>\n",
       "  </thead>\n",
       "  <tbody>\n",
       "    <tr>\n",
       "      <th>0</th>\n",
       "      <td>Yes</td>\n",
       "      <td>CA-2017-153822</td>\n",
       "    </tr>\n",
       "    <tr>\n",
       "      <th>1</th>\n",
       "      <td>Yes</td>\n",
       "      <td>CA-2017-129707</td>\n",
       "    </tr>\n",
       "    <tr>\n",
       "      <th>2</th>\n",
       "      <td>Yes</td>\n",
       "      <td>CA-2014-152345</td>\n",
       "    </tr>\n",
       "    <tr>\n",
       "      <th>3</th>\n",
       "      <td>Yes</td>\n",
       "      <td>CA-2015-156440</td>\n",
       "    </tr>\n",
       "    <tr>\n",
       "      <th>4</th>\n",
       "      <td>Yes</td>\n",
       "      <td>US-2017-155999</td>\n",
       "    </tr>\n",
       "  </tbody>\n",
       "</table>\n",
       "</div>"
      ],
      "text/plain": [
       "  Returned        Order ID\n",
       "0      Yes  CA-2017-153822\n",
       "1      Yes  CA-2017-129707\n",
       "2      Yes  CA-2014-152345\n",
       "3      Yes  CA-2015-156440\n",
       "4      Yes  US-2017-155999"
      ]
     },
     "execution_count": 5,
     "metadata": {},
     "output_type": "execute_result"
    }
   ],
   "source": [
    "returns.head()"
   ]
  },
  {
   "cell_type": "code",
   "execution_count": 6,
   "id": "0acd2474",
   "metadata": {},
   "outputs": [
    {
     "name": "stdout",
     "output_type": "stream",
     "text": [
      "<class 'pandas.core.frame.DataFrame'>\n",
      "RangeIndex: 1993 entries, 0 to 1992\n",
      "Data columns (total 21 columns):\n",
      " #   Column         Non-Null Count  Dtype  \n",
      "---  ------         --------------  -----  \n",
      " 0   Row ID         1993 non-null   int64  \n",
      " 1   Order ID       1993 non-null   object \n",
      " 2   Order Date     1993 non-null   object \n",
      " 3   Ship Date      1993 non-null   object \n",
      " 4   Ship Mode      1993 non-null   object \n",
      " 5   Customer ID    1993 non-null   object \n",
      " 6   Customer Name  1993 non-null   object \n",
      " 7   Segment        1993 non-null   object \n",
      " 8   Country        1993 non-null   object \n",
      " 9   City           1993 non-null   object \n",
      " 10  State          1993 non-null   object \n",
      " 11  Postal Code    1993 non-null   int64  \n",
      " 12  Region         1993 non-null   object \n",
      " 13  Product ID     1993 non-null   object \n",
      " 14  Category       1993 non-null   object \n",
      " 15  Sub-Category   1993 non-null   object \n",
      " 16  Product Name   1993 non-null   object \n",
      " 17  Sales          1993 non-null   float64\n",
      " 18  Quantity       1993 non-null   int64  \n",
      " 19  Discount       1993 non-null   float64\n",
      " 20  Profit         1993 non-null   float64\n",
      "dtypes: float64(3), int64(3), object(15)\n",
      "memory usage: 327.1+ KB\n"
     ]
    }
   ],
   "source": [
    "orders.info()"
   ]
  },
  {
   "cell_type": "code",
   "execution_count": 7,
   "id": "2c8d5031",
   "metadata": {},
   "outputs": [],
   "source": [
    "orders.columns = (orders.columns.str.strip().str.replace(' ', '_').str.replace('-', '_').str.lower())"
   ]
  },
  {
   "cell_type": "code",
   "execution_count": 8,
   "id": "194c5c24",
   "metadata": {},
   "outputs": [
    {
     "data": {
      "text/html": [
       "<div>\n",
       "<style scoped>\n",
       "    .dataframe tbody tr th:only-of-type {\n",
       "        vertical-align: middle;\n",
       "    }\n",
       "\n",
       "    .dataframe tbody tr th {\n",
       "        vertical-align: top;\n",
       "    }\n",
       "\n",
       "    .dataframe thead th {\n",
       "        text-align: right;\n",
       "    }\n",
       "</style>\n",
       "<table border=\"1\" class=\"dataframe\">\n",
       "  <thead>\n",
       "    <tr style=\"text-align: right;\">\n",
       "      <th></th>\n",
       "      <th>row_id</th>\n",
       "      <th>order_id</th>\n",
       "      <th>order_date</th>\n",
       "      <th>ship_date</th>\n",
       "      <th>ship_mode</th>\n",
       "      <th>customer_id</th>\n",
       "      <th>customer_name</th>\n",
       "      <th>segment</th>\n",
       "      <th>country</th>\n",
       "      <th>city</th>\n",
       "      <th>state</th>\n",
       "      <th>postal_code</th>\n",
       "      <th>region</th>\n",
       "      <th>product_id</th>\n",
       "      <th>category</th>\n",
       "      <th>sub_category</th>\n",
       "      <th>product_name</th>\n",
       "      <th>sales</th>\n",
       "      <th>quantity</th>\n",
       "      <th>discount</th>\n",
       "      <th>profit</th>\n",
       "    </tr>\n",
       "  </thead>\n",
       "  <tbody>\n",
       "    <tr>\n",
       "      <th>0</th>\n",
       "      <td>7981</td>\n",
       "      <td>CA-2014-103800</td>\n",
       "      <td>03-01-2014</td>\n",
       "      <td>07-01-2014</td>\n",
       "      <td>Standard Class</td>\n",
       "      <td>DP-13000</td>\n",
       "      <td>Darren Powers</td>\n",
       "      <td>Consumer</td>\n",
       "      <td>United States</td>\n",
       "      <td>Houston</td>\n",
       "      <td>Texas</td>\n",
       "      <td>77095</td>\n",
       "      <td>Central</td>\n",
       "      <td>OFF-PA-10000174</td>\n",
       "      <td>Office Supplies</td>\n",
       "      <td>Paper</td>\n",
       "      <td>Message Book, Wirebound, Four 5 1/2\" X 4\" Form...</td>\n",
       "      <td>16.448</td>\n",
       "      <td>2</td>\n",
       "      <td>0.2</td>\n",
       "      <td>5.5512</td>\n",
       "    </tr>\n",
       "    <tr>\n",
       "      <th>1</th>\n",
       "      <td>740</td>\n",
       "      <td>CA-2014-112326</td>\n",
       "      <td>04-01-2014</td>\n",
       "      <td>08-01-2014</td>\n",
       "      <td>Standard Class</td>\n",
       "      <td>PO-19195</td>\n",
       "      <td>Phillina Ober</td>\n",
       "      <td>Home Office</td>\n",
       "      <td>United States</td>\n",
       "      <td>Naperville</td>\n",
       "      <td>Illinois</td>\n",
       "      <td>60540</td>\n",
       "      <td>Central</td>\n",
       "      <td>OFF-LA-10003223</td>\n",
       "      <td>Office Supplies</td>\n",
       "      <td>Labels</td>\n",
       "      <td>Avery 508</td>\n",
       "      <td>11.784</td>\n",
       "      <td>3</td>\n",
       "      <td>0.2</td>\n",
       "      <td>4.2717</td>\n",
       "    </tr>\n",
       "    <tr>\n",
       "      <th>2</th>\n",
       "      <td>741</td>\n",
       "      <td>CA-2014-112326</td>\n",
       "      <td>04-01-2014</td>\n",
       "      <td>08-01-2014</td>\n",
       "      <td>Standard Class</td>\n",
       "      <td>PO-19195</td>\n",
       "      <td>Phillina Ober</td>\n",
       "      <td>Home Office</td>\n",
       "      <td>United States</td>\n",
       "      <td>Naperville</td>\n",
       "      <td>Illinois</td>\n",
       "      <td>60540</td>\n",
       "      <td>Central</td>\n",
       "      <td>OFF-ST-10002743</td>\n",
       "      <td>Office Supplies</td>\n",
       "      <td>Storage</td>\n",
       "      <td>SAFCO Boltless Steel Shelving</td>\n",
       "      <td>272.736</td>\n",
       "      <td>3</td>\n",
       "      <td>0.2</td>\n",
       "      <td>-64.7748</td>\n",
       "    </tr>\n",
       "  </tbody>\n",
       "</table>\n",
       "</div>"
      ],
      "text/plain": [
       "   row_id        order_id  order_date   ship_date       ship_mode customer_id  \\\n",
       "0    7981  CA-2014-103800  03-01-2014  07-01-2014  Standard Class    DP-13000   \n",
       "1     740  CA-2014-112326  04-01-2014  08-01-2014  Standard Class    PO-19195   \n",
       "2     741  CA-2014-112326  04-01-2014  08-01-2014  Standard Class    PO-19195   \n",
       "\n",
       "   customer_name      segment        country        city     state  \\\n",
       "0  Darren Powers     Consumer  United States     Houston     Texas   \n",
       "1  Phillina Ober  Home Office  United States  Naperville  Illinois   \n",
       "2  Phillina Ober  Home Office  United States  Naperville  Illinois   \n",
       "\n",
       "   postal_code   region       product_id         category sub_category  \\\n",
       "0        77095  Central  OFF-PA-10000174  Office Supplies        Paper   \n",
       "1        60540  Central  OFF-LA-10003223  Office Supplies       Labels   \n",
       "2        60540  Central  OFF-ST-10002743  Office Supplies      Storage   \n",
       "\n",
       "                                        product_name    sales  quantity  \\\n",
       "0  Message Book, Wirebound, Four 5 1/2\" X 4\" Form...   16.448         2   \n",
       "1                                          Avery 508   11.784         3   \n",
       "2                      SAFCO Boltless Steel Shelving  272.736         3   \n",
       "\n",
       "   discount   profit  \n",
       "0       0.2   5.5512  \n",
       "1       0.2   4.2717  \n",
       "2       0.2 -64.7748  "
      ]
     },
     "execution_count": 8,
     "metadata": {},
     "output_type": "execute_result"
    }
   ],
   "source": [
    "orders.head(3)"
   ]
  },
  {
   "cell_type": "code",
   "execution_count": 9,
   "id": "1eccf1c2",
   "metadata": {},
   "outputs": [],
   "source": [
    "managers.columns = (managers.columns.str.strip().str.lower())"
   ]
  },
  {
   "cell_type": "code",
   "execution_count": 10,
   "id": "e6652cbe",
   "metadata": {},
   "outputs": [
    {
     "data": {
      "text/html": [
       "<div>\n",
       "<style scoped>\n",
       "    .dataframe tbody tr th:only-of-type {\n",
       "        vertical-align: middle;\n",
       "    }\n",
       "\n",
       "    .dataframe tbody tr th {\n",
       "        vertical-align: top;\n",
       "    }\n",
       "\n",
       "    .dataframe thead th {\n",
       "        text-align: right;\n",
       "    }\n",
       "</style>\n",
       "<table border=\"1\" class=\"dataframe\">\n",
       "  <thead>\n",
       "    <tr style=\"text-align: right;\">\n",
       "      <th></th>\n",
       "      <th>person</th>\n",
       "      <th>region</th>\n",
       "    </tr>\n",
       "  </thead>\n",
       "  <tbody>\n",
       "    <tr>\n",
       "      <th>0</th>\n",
       "      <td>Anna Andreadi</td>\n",
       "      <td>West</td>\n",
       "    </tr>\n",
       "    <tr>\n",
       "      <th>1</th>\n",
       "      <td>Chuck Magee</td>\n",
       "      <td>East</td>\n",
       "    </tr>\n",
       "    <tr>\n",
       "      <th>2</th>\n",
       "      <td>Kelly Williams</td>\n",
       "      <td>Central</td>\n",
       "    </tr>\n",
       "    <tr>\n",
       "      <th>3</th>\n",
       "      <td>Cassandra Brandow</td>\n",
       "      <td>South</td>\n",
       "    </tr>\n",
       "  </tbody>\n",
       "</table>\n",
       "</div>"
      ],
      "text/plain": [
       "              person   region\n",
       "0      Anna Andreadi     West\n",
       "1        Chuck Magee     East\n",
       "2     Kelly Williams  Central\n",
       "3  Cassandra Brandow    South"
      ]
     },
     "execution_count": 10,
     "metadata": {},
     "output_type": "execute_result"
    }
   ],
   "source": [
    "managers.head()"
   ]
  },
  {
   "cell_type": "markdown",
   "id": "c234ca75",
   "metadata": {},
   "source": [
    "### Loading year-wise data (2015, 2016, 2017)"
   ]
  },
  {
   "cell_type": "code",
   "execution_count": 11,
   "id": "41107019",
   "metadata": {},
   "outputs": [],
   "source": [
    "orders_2015 = pd.read_csv(r\"D:\\super store sales\\super store sales\\Orders 2015.csv\", encoding='latin1')\n",
    "orders_2016 = pd.read_csv(r\"D:\\super store sales\\super store sales\\Orders 2016.csv\", encoding='latin1')\n",
    "orders_2017 = pd.read_csv(r\"D:\\super store sales\\super store sales\\Order 2017.csv\", encoding='latin1')"
   ]
  },
  {
   "cell_type": "code",
   "execution_count": 12,
   "id": "ec6be750",
   "metadata": {},
   "outputs": [
    {
     "data": {
      "text/plain": [
       "array([ True,  True,  True,  True,  True,  True,  True,  True,  True,\n",
       "        True,  True,  True,  True,  True,  True,  True,  True,  True,\n",
       "        True,  True,  True])"
      ]
     },
     "execution_count": 12,
     "metadata": {},
     "output_type": "execute_result"
    }
   ],
   "source": [
    "orders_2015.columns == orders_2016.columns "
   ]
  },
  {
   "cell_type": "code",
   "execution_count": 13,
   "id": "e01aacc2",
   "metadata": {},
   "outputs": [],
   "source": [
    "orders_all = pd.concat([orders_2015, orders_2016, orders_2017], ignore_index=True)"
   ]
  },
  {
   "cell_type": "code",
   "execution_count": 14,
   "id": "d7003acd",
   "metadata": {},
   "outputs": [],
   "source": [
    "orders_all.columns = (orders_all.columns.str.strip().str.replace(' ', '_').str.replace('-', '_').str.lower())"
   ]
  },
  {
   "cell_type": "code",
   "execution_count": 15,
   "id": "da3eb72d",
   "metadata": {},
   "outputs": [
    {
     "name": "stdout",
     "output_type": "stream",
     "text": [
      "<class 'pandas.core.frame.DataFrame'>\n",
      "RangeIndex: 8001 entries, 0 to 8000\n",
      "Data columns (total 21 columns):\n",
      " #   Column         Non-Null Count  Dtype  \n",
      "---  ------         --------------  -----  \n",
      " 0   row_id         8001 non-null   int64  \n",
      " 1   order_id       8001 non-null   object \n",
      " 2   order_date     8001 non-null   object \n",
      " 3   ship_date      8001 non-null   object \n",
      " 4   ship_mode      8001 non-null   object \n",
      " 5   customer_id    8001 non-null   object \n",
      " 6   customer_name  8001 non-null   object \n",
      " 7   segment        8001 non-null   object \n",
      " 8   country        8001 non-null   object \n",
      " 9   city           8001 non-null   object \n",
      " 10  state          8001 non-null   object \n",
      " 11  postal_code    8001 non-null   int64  \n",
      " 12  region         8001 non-null   object \n",
      " 13  product_id     8001 non-null   object \n",
      " 14  category       8001 non-null   object \n",
      " 15  sub_category   8001 non-null   object \n",
      " 16  product_name   8001 non-null   object \n",
      " 17  sales          8001 non-null   float64\n",
      " 18  quantity       8001 non-null   int64  \n",
      " 19  discount       8001 non-null   float64\n",
      " 20  profit         8001 non-null   float64\n",
      "dtypes: float64(3), int64(3), object(15)\n",
      "memory usage: 1.3+ MB\n"
     ]
    }
   ],
   "source": [
    "orders_all.info()"
   ]
  },
  {
   "cell_type": "code",
   "execution_count": 16,
   "id": "bee159a1",
   "metadata": {},
   "outputs": [
    {
     "data": {
      "text/plain": [
       "('01-01-2017', '31-12-2016')"
      ]
     },
     "execution_count": 16,
     "metadata": {},
     "output_type": "execute_result"
    }
   ],
   "source": [
    "orders_all.order_date.min(), orders_all.order_date.max()"
   ]
  },
  {
   "cell_type": "markdown",
   "id": "827ccfca",
   "metadata": {},
   "source": [
    "#### Making the full df \n"
   ]
  },
  {
   "cell_type": "code",
   "execution_count": 17,
   "id": "1e7dba89",
   "metadata": {},
   "outputs": [],
   "source": [
    "returns.columns = (returns.columns.str.strip().str.replace(' ', '_').str.lower())"
   ]
  },
  {
   "cell_type": "code",
   "execution_count": 18,
   "id": "ded4e81a",
   "metadata": {},
   "outputs": [
    {
     "name": "stdout",
     "output_type": "stream",
     "text": [
      "<class 'pandas.core.frame.DataFrame'>\n",
      "RangeIndex: 296 entries, 0 to 295\n",
      "Data columns (total 2 columns):\n",
      " #   Column    Non-Null Count  Dtype \n",
      "---  ------    --------------  ----- \n",
      " 0   returned  296 non-null    object\n",
      " 1   order_id  296 non-null    object\n",
      "dtypes: object(2)\n",
      "memory usage: 4.8+ KB\n"
     ]
    }
   ],
   "source": [
    "returns.info()"
   ]
  },
  {
   "cell_type": "code",
   "execution_count": 19,
   "id": "4c558be1",
   "metadata": {},
   "outputs": [],
   "source": [
    "orders_return = pd.merge(orders_all, returns, on=\"order_id\", how=\"left\")"
   ]
  },
  {
   "cell_type": "code",
   "execution_count": 20,
   "id": "2a83b6b6",
   "metadata": {},
   "outputs": [
    {
     "name": "stdout",
     "output_type": "stream",
     "text": [
      "<class 'pandas.core.frame.DataFrame'>\n",
      "RangeIndex: 4 entries, 0 to 3\n",
      "Data columns (total 2 columns):\n",
      " #   Column  Non-Null Count  Dtype \n",
      "---  ------  --------------  ----- \n",
      " 0   person  4 non-null      object\n",
      " 1   region  4 non-null      object\n",
      "dtypes: object(2)\n",
      "memory usage: 196.0+ bytes\n"
     ]
    }
   ],
   "source": [
    "managers.info()"
   ]
  },
  {
   "cell_type": "code",
   "execution_count": 21,
   "id": "eff030d8",
   "metadata": {},
   "outputs": [],
   "source": [
    "full_df = pd.merge(orders_return, managers, on='region', how='left')"
   ]
  },
  {
   "cell_type": "code",
   "execution_count": 22,
   "id": "e81e3d0f",
   "metadata": {},
   "outputs": [
    {
     "name": "stdout",
     "output_type": "stream",
     "text": [
      "<class 'pandas.core.frame.DataFrame'>\n",
      "RangeIndex: 8001 entries, 0 to 8000\n",
      "Data columns (total 23 columns):\n",
      " #   Column         Non-Null Count  Dtype  \n",
      "---  ------         --------------  -----  \n",
      " 0   row_id         8001 non-null   int64  \n",
      " 1   order_id       8001 non-null   object \n",
      " 2   order_date     8001 non-null   object \n",
      " 3   ship_date      8001 non-null   object \n",
      " 4   ship_mode      8001 non-null   object \n",
      " 5   customer_id    8001 non-null   object \n",
      " 6   customer_name  8001 non-null   object \n",
      " 7   segment        8001 non-null   object \n",
      " 8   country        8001 non-null   object \n",
      " 9   city           8001 non-null   object \n",
      " 10  state          8001 non-null   object \n",
      " 11  postal_code    8001 non-null   int64  \n",
      " 12  region         8001 non-null   object \n",
      " 13  product_id     8001 non-null   object \n",
      " 14  category       8001 non-null   object \n",
      " 15  sub_category   8001 non-null   object \n",
      " 16  product_name   8001 non-null   object \n",
      " 17  sales          8001 non-null   float64\n",
      " 18  quantity       8001 non-null   int64  \n",
      " 19  discount       8001 non-null   float64\n",
      " 20  profit         8001 non-null   float64\n",
      " 21  returned       649 non-null    object \n",
      " 22  person         8001 non-null   object \n",
      "dtypes: float64(3), int64(3), object(17)\n",
      "memory usage: 1.4+ MB\n"
     ]
    }
   ],
   "source": [
    "full_df.info()"
   ]
  },
  {
   "cell_type": "code",
   "execution_count": 23,
   "id": "fd3c6441",
   "metadata": {},
   "outputs": [
    {
     "data": {
      "text/plain": [
       "row_id              0\n",
       "order_id            0\n",
       "order_date          0\n",
       "ship_date           0\n",
       "ship_mode           0\n",
       "customer_id         0\n",
       "customer_name       0\n",
       "segment             0\n",
       "country             0\n",
       "city                0\n",
       "state               0\n",
       "postal_code         0\n",
       "region              0\n",
       "product_id          0\n",
       "category            0\n",
       "sub_category        0\n",
       "product_name        0\n",
       "sales               0\n",
       "quantity            0\n",
       "discount            0\n",
       "profit              0\n",
       "returned         7352\n",
       "person              0\n",
       "dtype: int64"
      ]
     },
     "execution_count": 23,
     "metadata": {},
     "output_type": "execute_result"
    }
   ],
   "source": [
    "full_df.isnull().sum()"
   ]
  },
  {
   "cell_type": "code",
   "execution_count": 24,
   "id": "4616967a",
   "metadata": {},
   "outputs": [
    {
     "data": {
      "text/html": [
       "<div>\n",
       "<style scoped>\n",
       "    .dataframe tbody tr th:only-of-type {\n",
       "        vertical-align: middle;\n",
       "    }\n",
       "\n",
       "    .dataframe tbody tr th {\n",
       "        vertical-align: top;\n",
       "    }\n",
       "\n",
       "    .dataframe thead th {\n",
       "        text-align: right;\n",
       "    }\n",
       "</style>\n",
       "<table border=\"1\" class=\"dataframe\">\n",
       "  <thead>\n",
       "    <tr style=\"text-align: right;\">\n",
       "      <th></th>\n",
       "      <th>row_id</th>\n",
       "      <th>order_id</th>\n",
       "      <th>order_date</th>\n",
       "      <th>ship_date</th>\n",
       "      <th>ship_mode</th>\n",
       "      <th>customer_id</th>\n",
       "      <th>customer_name</th>\n",
       "      <th>segment</th>\n",
       "      <th>country</th>\n",
       "      <th>city</th>\n",
       "      <th>state</th>\n",
       "      <th>postal_code</th>\n",
       "      <th>region</th>\n",
       "      <th>product_id</th>\n",
       "      <th>category</th>\n",
       "      <th>sub_category</th>\n",
       "      <th>product_name</th>\n",
       "      <th>sales</th>\n",
       "      <th>quantity</th>\n",
       "      <th>discount</th>\n",
       "      <th>profit</th>\n",
       "      <th>returned</th>\n",
       "      <th>person</th>\n",
       "    </tr>\n",
       "  </thead>\n",
       "  <tbody>\n",
       "    <tr>\n",
       "      <th>7998</th>\n",
       "      <td>1297</td>\n",
       "      <td>CA-2017-115427</td>\n",
       "      <td>30-12-2017</td>\n",
       "      <td>03-01-2018</td>\n",
       "      <td>Standard Class</td>\n",
       "      <td>EB-13975</td>\n",
       "      <td>Erica Bern</td>\n",
       "      <td>Corporate</td>\n",
       "      <td>United States</td>\n",
       "      <td>Fairfield</td>\n",
       "      <td>California</td>\n",
       "      <td>94533</td>\n",
       "      <td>West</td>\n",
       "      <td>OFF-BI-10002103</td>\n",
       "      <td>Office Supplies</td>\n",
       "      <td>Binders</td>\n",
       "      <td>Cardinal Slant-D Ring Binder, Heavy Gauge Vinyl</td>\n",
       "      <td>13.904</td>\n",
       "      <td>2</td>\n",
       "      <td>0.2</td>\n",
       "      <td>4.5188</td>\n",
       "      <td>Yes</td>\n",
       "      <td>Anna Andreadi</td>\n",
       "    </tr>\n",
       "    <tr>\n",
       "      <th>7999</th>\n",
       "      <td>1298</td>\n",
       "      <td>CA-2017-115427</td>\n",
       "      <td>30-12-2017</td>\n",
       "      <td>03-01-2018</td>\n",
       "      <td>Standard Class</td>\n",
       "      <td>EB-13975</td>\n",
       "      <td>Erica Bern</td>\n",
       "      <td>Corporate</td>\n",
       "      <td>United States</td>\n",
       "      <td>Fairfield</td>\n",
       "      <td>California</td>\n",
       "      <td>94533</td>\n",
       "      <td>West</td>\n",
       "      <td>OFF-BI-10004632</td>\n",
       "      <td>Office Supplies</td>\n",
       "      <td>Binders</td>\n",
       "      <td>GBC Binding covers</td>\n",
       "      <td>20.720</td>\n",
       "      <td>2</td>\n",
       "      <td>0.2</td>\n",
       "      <td>6.4750</td>\n",
       "      <td>Yes</td>\n",
       "      <td>Anna Andreadi</td>\n",
       "    </tr>\n",
       "    <tr>\n",
       "      <th>8000</th>\n",
       "      <td>5092</td>\n",
       "      <td>CA-2017-156720</td>\n",
       "      <td>30-12-2017</td>\n",
       "      <td>03-01-2018</td>\n",
       "      <td>Standard Class</td>\n",
       "      <td>JM-15580</td>\n",
       "      <td>Jill Matthias</td>\n",
       "      <td>Consumer</td>\n",
       "      <td>United States</td>\n",
       "      <td>Loveland</td>\n",
       "      <td>Colorado</td>\n",
       "      <td>80538</td>\n",
       "      <td>West</td>\n",
       "      <td>OFF-FA-10003472</td>\n",
       "      <td>Office Supplies</td>\n",
       "      <td>Fasteners</td>\n",
       "      <td>Bagged Rubber Bands</td>\n",
       "      <td>3.024</td>\n",
       "      <td>3</td>\n",
       "      <td>0.2</td>\n",
       "      <td>-0.6048</td>\n",
       "      <td>NaN</td>\n",
       "      <td>Anna Andreadi</td>\n",
       "    </tr>\n",
       "  </tbody>\n",
       "</table>\n",
       "</div>"
      ],
      "text/plain": [
       "      row_id        order_id  order_date   ship_date       ship_mode  \\\n",
       "7998    1297  CA-2017-115427  30-12-2017  03-01-2018  Standard Class   \n",
       "7999    1298  CA-2017-115427  30-12-2017  03-01-2018  Standard Class   \n",
       "8000    5092  CA-2017-156720  30-12-2017  03-01-2018  Standard Class   \n",
       "\n",
       "     customer_id  customer_name    segment        country       city  \\\n",
       "7998    EB-13975     Erica Bern  Corporate  United States  Fairfield   \n",
       "7999    EB-13975     Erica Bern  Corporate  United States  Fairfield   \n",
       "8000    JM-15580  Jill Matthias   Consumer  United States   Loveland   \n",
       "\n",
       "           state  postal_code region       product_id         category  \\\n",
       "7998  California        94533   West  OFF-BI-10002103  Office Supplies   \n",
       "7999  California        94533   West  OFF-BI-10004632  Office Supplies   \n",
       "8000    Colorado        80538   West  OFF-FA-10003472  Office Supplies   \n",
       "\n",
       "     sub_category                                     product_name   sales  \\\n",
       "7998      Binders  Cardinal Slant-D Ring Binder, Heavy Gauge Vinyl  13.904   \n",
       "7999      Binders                               GBC Binding covers  20.720   \n",
       "8000    Fasteners                              Bagged Rubber Bands   3.024   \n",
       "\n",
       "      quantity  discount  profit returned         person  \n",
       "7998         2       0.2  4.5188      Yes  Anna Andreadi  \n",
       "7999         2       0.2  6.4750      Yes  Anna Andreadi  \n",
       "8000         3       0.2 -0.6048      NaN  Anna Andreadi  "
      ]
     },
     "execution_count": 24,
     "metadata": {},
     "output_type": "execute_result"
    }
   ],
   "source": [
    "full_df.tail(3)"
   ]
  },
  {
   "cell_type": "markdown",
   "id": "23bf3d57",
   "metadata": {},
   "source": [
    "## EDA (Exploring Data Analysis)"
   ]
  },
  {
   "cell_type": "markdown",
   "id": "f839ed7a",
   "metadata": {},
   "source": [
    "### Sales per category"
   ]
  },
  {
   "cell_type": "code",
   "execution_count": 25,
   "id": "63bbc005",
   "metadata": {},
   "outputs": [
    {
     "data": {
      "text/plain": [
       "array(['Office Supplies', 'Furniture', 'Technology'], dtype=object)"
      ]
     },
     "execution_count": 25,
     "metadata": {},
     "output_type": "execute_result"
    }
   ],
   "source": [
    "full_df['category'].unique()"
   ]
  },
  {
   "cell_type": "code",
   "execution_count": 26,
   "id": "b73eda4c",
   "metadata": {},
   "outputs": [
    {
     "data": {
      "text/plain": [
       "category\n",
       "Office Supplies    4809\n",
       "Furniture          1700\n",
       "Technology         1492\n",
       "Name: count, dtype: int64"
      ]
     },
     "execution_count": 26,
     "metadata": {},
     "output_type": "execute_result"
    }
   ],
   "source": [
    "category = full_df.category.value_counts()\n",
    "category"
   ]
  },
  {
   "cell_type": "code",
   "execution_count": 27,
   "id": "7e7ddbcc",
   "metadata": {},
   "outputs": [
    {
     "data": {
      "image/png": "[encoded data removed]",
      "text/plain": [
       "<Figure size 640x480 with 1 Axes>"
      ]
     },
     "metadata": {},
     "output_type": "display_data"
    }
   ],
   "source": [
    "category.plot(kind='pie', color= 'bgr', autopct='%1.1f%%', explode=(0.02,0.02,0.02), title=\"Sales by each Category\")\n",
    "plt.show()"
   ]
  },
  {
   "cell_type": "code",
   "execution_count": 28,
   "id": "bad51635",
   "metadata": {},
   "outputs": [
    {
     "data": {
      "text/plain": [
       "category\n",
       "Technology         660875.8000\n",
       "Furniture          584806.9422\n",
       "Office Supplies    567270.6200\n",
       "Name: sales, dtype: float64"
      ]
     },
     "execution_count": 28,
     "metadata": {},
     "output_type": "execute_result"
    }
   ],
   "source": [
    "category_sales = full_df.groupby('category')['sales'].sum().sort_values(ascending=False)\n",
    "category_sales"
   ]
  },
  {
   "cell_type": "code",
   "execution_count": 29,
   "id": "6041f832",
   "metadata": {},
   "outputs": [
    {
     "data": {
      "image/png": "[encoded data removed]",
      "text/plain": [
       "<Figure size 640x480 with 1 Axes>"
      ]
     },
     "metadata": {},
     "output_type": "display_data"
    }
   ],
   "source": [
    "plt.Figure(figsize=(10,6))\n",
    "\n",
    "category_sales.plot(kind='pie', color= 'bgr', autopct='%1.1f%%', explode=(0.02,0.02,0.02))\n",
    "plt.show()"
   ]
  },
  {
   "cell_type": "code",
   "execution_count": 30,
   "id": "d62f05f6",
   "metadata": {},
   "outputs": [
    {
     "data": {
      "text/html": [
       "<div>\n",
       "<style scoped>\n",
       "    .dataframe tbody tr th:only-of-type {\n",
       "        vertical-align: middle;\n",
       "    }\n",
       "\n",
       "    .dataframe tbody tr th {\n",
       "        vertical-align: top;\n",
       "    }\n",
       "\n",
       "    .dataframe thead th {\n",
       "        text-align: right;\n",
       "    }\n",
       "</style>\n",
       "<table border=\"1\" class=\"dataframe\">\n",
       "  <thead>\n",
       "    <tr style=\"text-align: right;\">\n",
       "      <th></th>\n",
       "      <th>row_id</th>\n",
       "      <th>order_id</th>\n",
       "      <th>order_date</th>\n",
       "      <th>ship_date</th>\n",
       "      <th>ship_mode</th>\n",
       "      <th>customer_id</th>\n",
       "      <th>customer_name</th>\n",
       "      <th>segment</th>\n",
       "      <th>country</th>\n",
       "      <th>city</th>\n",
       "      <th>state</th>\n",
       "      <th>postal_code</th>\n",
       "      <th>region</th>\n",
       "      <th>product_id</th>\n",
       "      <th>category</th>\n",
       "      <th>sub_category</th>\n",
       "      <th>product_name</th>\n",
       "      <th>sales</th>\n",
       "      <th>quantity</th>\n",
       "      <th>discount</th>\n",
       "      <th>profit</th>\n",
       "      <th>returned</th>\n",
       "      <th>person</th>\n",
       "    </tr>\n",
       "  </thead>\n",
       "  <tbody>\n",
       "    <tr>\n",
       "      <th>0</th>\n",
       "      <td>213</td>\n",
       "      <td>CA-2015-146262</td>\n",
       "      <td>02-01-2015</td>\n",
       "      <td>09-01-2015</td>\n",
       "      <td>Standard Class</td>\n",
       "      <td>VW-21775</td>\n",
       "      <td>Victoria Wilson</td>\n",
       "      <td>Corporate</td>\n",
       "      <td>United States</td>\n",
       "      <td>Medina</td>\n",
       "      <td>Ohio</td>\n",
       "      <td>44256</td>\n",
       "      <td>East</td>\n",
       "      <td>OFF-LA-10004544</td>\n",
       "      <td>Office Supplies</td>\n",
       "      <td>Labels</td>\n",
       "      <td>Avery 505</td>\n",
       "      <td>23.680</td>\n",
       "      <td>2</td>\n",
       "      <td>0.2</td>\n",
       "      <td>8.8800</td>\n",
       "      <td>Yes</td>\n",
       "      <td>Chuck Magee</td>\n",
       "    </tr>\n",
       "    <tr>\n",
       "      <th>1</th>\n",
       "      <td>214</td>\n",
       "      <td>CA-2015-146262</td>\n",
       "      <td>02-01-2015</td>\n",
       "      <td>09-01-2015</td>\n",
       "      <td>Standard Class</td>\n",
       "      <td>VW-21775</td>\n",
       "      <td>Victoria Wilson</td>\n",
       "      <td>Corporate</td>\n",
       "      <td>United States</td>\n",
       "      <td>Medina</td>\n",
       "      <td>Ohio</td>\n",
       "      <td>44256</td>\n",
       "      <td>East</td>\n",
       "      <td>FUR-BO-10004695</td>\n",
       "      <td>Furniture</td>\n",
       "      <td>Bookcases</td>\n",
       "      <td>O'Sullivan 2-Door Barrister Bookcase in Odessa...</td>\n",
       "      <td>452.450</td>\n",
       "      <td>5</td>\n",
       "      <td>0.5</td>\n",
       "      <td>-244.3230</td>\n",
       "      <td>Yes</td>\n",
       "      <td>Chuck Magee</td>\n",
       "    </tr>\n",
       "    <tr>\n",
       "      <th>2</th>\n",
       "      <td>215</td>\n",
       "      <td>CA-2015-146262</td>\n",
       "      <td>02-01-2015</td>\n",
       "      <td>09-01-2015</td>\n",
       "      <td>Standard Class</td>\n",
       "      <td>VW-21775</td>\n",
       "      <td>Victoria Wilson</td>\n",
       "      <td>Corporate</td>\n",
       "      <td>United States</td>\n",
       "      <td>Medina</td>\n",
       "      <td>Ohio</td>\n",
       "      <td>44256</td>\n",
       "      <td>East</td>\n",
       "      <td>TEC-PH-10002844</td>\n",
       "      <td>Technology</td>\n",
       "      <td>Phones</td>\n",
       "      <td>Speck Products Candyshell Flip Case</td>\n",
       "      <td>62.982</td>\n",
       "      <td>3</td>\n",
       "      <td>0.4</td>\n",
       "      <td>-14.6958</td>\n",
       "      <td>Yes</td>\n",
       "      <td>Chuck Magee</td>\n",
       "    </tr>\n",
       "  </tbody>\n",
       "</table>\n",
       "</div>"
      ],
      "text/plain": [
       "   row_id        order_id  order_date   ship_date       ship_mode customer_id  \\\n",
       "0     213  CA-2015-146262  02-01-2015  09-01-2015  Standard Class    VW-21775   \n",
       "1     214  CA-2015-146262  02-01-2015  09-01-2015  Standard Class    VW-21775   \n",
       "2     215  CA-2015-146262  02-01-2015  09-01-2015  Standard Class    VW-21775   \n",
       "\n",
       "     customer_name    segment        country    city state  postal_code  \\\n",
       "0  Victoria Wilson  Corporate  United States  Medina  Ohio        44256   \n",
       "1  Victoria Wilson  Corporate  United States  Medina  Ohio        44256   \n",
       "2  Victoria Wilson  Corporate  United States  Medina  Ohio        44256   \n",
       "\n",
       "  region       product_id         category sub_category  \\\n",
       "0   East  OFF-LA-10004544  Office Supplies       Labels   \n",
       "1   East  FUR-BO-10004695        Furniture    Bookcases   \n",
       "2   East  TEC-PH-10002844       Technology       Phones   \n",
       "\n",
       "                                        product_name    sales  quantity  \\\n",
       "0                                          Avery 505   23.680         2   \n",
       "1  O'Sullivan 2-Door Barrister Bookcase in Odessa...  452.450         5   \n",
       "2                Speck Products Candyshell Flip Case   62.982         3   \n",
       "\n",
       "   discount    profit returned       person  \n",
       "0       0.2    8.8800      Yes  Chuck Magee  \n",
       "1       0.5 -244.3230      Yes  Chuck Magee  \n",
       "2       0.4  -14.6958      Yes  Chuck Magee  "
      ]
     },
     "execution_count": 30,
     "metadata": {},
     "output_type": "execute_result"
    }
   ],
   "source": [
    "full_df.head(3)"
   ]
  },
  {
   "cell_type": "code",
   "execution_count": 31,
   "id": "04555b0d",
   "metadata": {},
   "outputs": [
    {
     "name": "stdout",
     "output_type": "stream",
     "text": [
      "<class 'pandas.core.frame.DataFrame'>\n",
      "RangeIndex: 8001 entries, 0 to 8000\n",
      "Data columns (total 23 columns):\n",
      " #   Column         Non-Null Count  Dtype  \n",
      "---  ------         --------------  -----  \n",
      " 0   row_id         8001 non-null   int64  \n",
      " 1   order_id       8001 non-null   object \n",
      " 2   order_date     8001 non-null   object \n",
      " 3   ship_date      8001 non-null   object \n",
      " 4   ship_mode      8001 non-null   object \n",
      " 5   customer_id    8001 non-null   object \n",
      " 6   customer_name  8001 non-null   object \n",
      " 7   segment        8001 non-null   object \n",
      " 8   country        8001 non-null   object \n",
      " 9   city           8001 non-null   object \n",
      " 10  state          8001 non-null   object \n",
      " 11  postal_code    8001 non-null   int64  \n",
      " 12  region         8001 non-null   object \n",
      " 13  product_id     8001 non-null   object \n",
      " 14  category       8001 non-null   object \n",
      " 15  sub_category   8001 non-null   object \n",
      " 16  product_name   8001 non-null   object \n",
      " 17  sales          8001 non-null   float64\n",
      " 18  quantity       8001 non-null   int64  \n",
      " 19  discount       8001 non-null   float64\n",
      " 20  profit         8001 non-null   float64\n",
      " 21  returned       649 non-null    object \n",
      " 22  person         8001 non-null   object \n",
      "dtypes: float64(3), int64(3), object(17)\n",
      "memory usage: 1.4+ MB\n"
     ]
    }
   ],
   "source": [
    "full_df.info()"
   ]
  },
  {
   "cell_type": "code",
   "execution_count": 32,
   "id": "674b10df",
   "metadata": {},
   "outputs": [
    {
     "data": {
      "text/plain": [
       "array([   8.88  , -244.323 ,  -14.6958, ...,   19.791 ,    6.475 ,\n",
       "         -0.6048])"
      ]
     },
     "execution_count": 32,
     "metadata": {},
     "output_type": "execute_result"
    }
   ],
   "source": [
    "full_df.profit.unique()"
   ]
  },
  {
   "cell_type": "code",
   "execution_count": 33,
   "id": "155bbdd7",
   "metadata": {},
   "outputs": [
    {
     "data": {
      "text/plain": [
       "category\n",
       "Furniture           12993.5473\n",
       "Office Supplies     99897.3847\n",
       "Technology         123962.1156\n",
       "Name: profit, dtype: float64"
      ]
     },
     "execution_count": 33,
     "metadata": {},
     "output_type": "execute_result"
    }
   ],
   "source": [
    "category_profits = full_df.groupby('category')['profit'].sum()\n",
    "category_profits"
   ]
  },
  {
   "cell_type": "code",
   "execution_count": 34,
   "id": "c35d284a",
   "metadata": {},
   "outputs": [
    {
     "data": {
      "image/png": "[encoded data removed]",
      "text/plain": [
       "<Figure size 640x480 with 1 Axes>"
      ]
     },
     "metadata": {},
     "output_type": "display_data"
    }
   ],
   "source": [
    "category_profits.plot(x=category_profits.index, y=category_profits.values, kind='bar', color='c', legend=True)\n",
    "plt.show()"
   ]
  },
  {
   "cell_type": "code",
   "execution_count": 35,
   "id": "f21881cb",
   "metadata": {},
   "outputs": [
    {
     "data": {
      "text/plain": [
       "array(['Labels', 'Bookcases', 'Phones', 'Machines', 'Accessories',\n",
       "       'Storage', 'Art', 'Paper', 'Binders', 'Furnishings', 'Chairs',\n",
       "       'Envelopes', 'Appliances', 'Tables', 'Supplies', 'Fasteners',\n",
       "       'Copiers'], dtype=object)"
      ]
     },
     "execution_count": 35,
     "metadata": {},
     "output_type": "execute_result"
    }
   ],
   "source": [
    "full_df.sub_category.unique()"
   ]
  },
  {
   "cell_type": "code",
   "execution_count": 36,
   "id": "bf0b8e00",
   "metadata": {},
   "outputs": [
    {
     "data": {
      "text/plain": [
       "sub_category\n",
       "Binders        1233\n",
       "Paper          1097\n",
       "Furnishings     773\n",
       "Phones          718\n",
       "Storage         669\n",
       "Art             632\n",
       "Accessories     627\n",
       "Chairs          488\n",
       "Appliances      373\n",
       "Labels          288\n",
       "Tables          248\n",
       "Envelopes       200\n",
       "Bookcases       191\n",
       "Fasteners       167\n",
       "Supplies        150\n",
       "Machines         89\n",
       "Copiers          58\n",
       "Name: count, dtype: int64"
      ]
     },
     "execution_count": 36,
     "metadata": {},
     "output_type": "execute_result"
    }
   ],
   "source": [
    "full_df.sub_category.value_counts()"
   ]
  },
  {
   "cell_type": "code",
   "execution_count": 37,
   "id": "fd7768b0",
   "metadata": {},
   "outputs": [
    {
     "data": {
      "text/plain": [
       "sub_category\n",
       "Accessories    35533.9207\n",
       "Appliances     15678.5055\n",
       "Art             5120.9839\n",
       "Binders        25482.0473\n",
       "Bookcases      -3126.3853\n",
       "Chairs         19635.1193\n",
       "Copiers        52704.8816\n",
       "Envelopes       5468.6979\n",
       "Fasteners        770.9599\n",
       "Furnishings    11086.2517\n",
       "Labels          4260.2498\n",
       "Machines        3015.5880\n",
       "Paper          27682.5479\n",
       "Phones         32707.7253\n",
       "Storage        17112.5476\n",
       "Supplies       -1679.1551\n",
       "Tables        -14601.4384\n",
       "Name: profit, dtype: float64"
      ]
     },
     "execution_count": 37,
     "metadata": {},
     "output_type": "execute_result"
    }
   ],
   "source": [
    "sub_category_profit = full_df.groupby('sub_category')['profit'].sum()\n",
    "sub_category_profit"
   ]
  },
  {
   "cell_type": "code",
   "execution_count": 38,
   "id": "f34a8e0e",
   "metadata": {},
   "outputs": [
    {
     "data": {
      "image/png": "[encoded data removed]",
      "text/plain": [
       "<Figure size 640x480 with 1 Axes>"
      ]
     },
     "metadata": {},
     "output_type": "display_data"
    }
   ],
   "source": [
    "sub_category_profit.plot(x=sub_category_profit.index, y=sub_category_profit.values, kind='bar', color='b', legend=True)\n",
    "plt.show()"
   ]
  },
  {
   "cell_type": "code",
   "execution_count": 39,
   "id": "cc0b515f",
   "metadata": {},
   "outputs": [
    {
     "data": {
      "text/html": [
       "<div>\n",
       "<style scoped>\n",
       "    .dataframe tbody tr th:only-of-type {\n",
       "        vertical-align: middle;\n",
       "    }\n",
       "\n",
       "    .dataframe tbody tr th {\n",
       "        vertical-align: top;\n",
       "    }\n",
       "\n",
       "    .dataframe thead th {\n",
       "        text-align: right;\n",
       "    }\n",
       "</style>\n",
       "<table border=\"1\" class=\"dataframe\">\n",
       "  <thead>\n",
       "    <tr style=\"text-align: right;\">\n",
       "      <th></th>\n",
       "      <th>row_id</th>\n",
       "      <th>order_id</th>\n",
       "      <th>order_date</th>\n",
       "      <th>ship_date</th>\n",
       "      <th>ship_mode</th>\n",
       "      <th>customer_id</th>\n",
       "      <th>customer_name</th>\n",
       "      <th>segment</th>\n",
       "      <th>country</th>\n",
       "      <th>city</th>\n",
       "      <th>state</th>\n",
       "      <th>postal_code</th>\n",
       "      <th>region</th>\n",
       "      <th>product_id</th>\n",
       "      <th>category</th>\n",
       "      <th>sub_category</th>\n",
       "      <th>product_name</th>\n",
       "      <th>sales</th>\n",
       "      <th>quantity</th>\n",
       "      <th>discount</th>\n",
       "      <th>profit</th>\n",
       "      <th>returned</th>\n",
       "      <th>person</th>\n",
       "    </tr>\n",
       "  </thead>\n",
       "  <tbody>\n",
       "    <tr>\n",
       "      <th>0</th>\n",
       "      <td>213</td>\n",
       "      <td>CA-2015-146262</td>\n",
       "      <td>02-01-2015</td>\n",
       "      <td>09-01-2015</td>\n",
       "      <td>Standard Class</td>\n",
       "      <td>VW-21775</td>\n",
       "      <td>Victoria Wilson</td>\n",
       "      <td>Corporate</td>\n",
       "      <td>United States</td>\n",
       "      <td>Medina</td>\n",
       "      <td>Ohio</td>\n",
       "      <td>44256</td>\n",
       "      <td>East</td>\n",
       "      <td>OFF-LA-10004544</td>\n",
       "      <td>Office Supplies</td>\n",
       "      <td>Labels</td>\n",
       "      <td>Avery 505</td>\n",
       "      <td>23.680</td>\n",
       "      <td>2</td>\n",
       "      <td>0.2</td>\n",
       "      <td>8.8800</td>\n",
       "      <td>Yes</td>\n",
       "      <td>Chuck Magee</td>\n",
       "    </tr>\n",
       "    <tr>\n",
       "      <th>1</th>\n",
       "      <td>214</td>\n",
       "      <td>CA-2015-146262</td>\n",
       "      <td>02-01-2015</td>\n",
       "      <td>09-01-2015</td>\n",
       "      <td>Standard Class</td>\n",
       "      <td>VW-21775</td>\n",
       "      <td>Victoria Wilson</td>\n",
       "      <td>Corporate</td>\n",
       "      <td>United States</td>\n",
       "      <td>Medina</td>\n",
       "      <td>Ohio</td>\n",
       "      <td>44256</td>\n",
       "      <td>East</td>\n",
       "      <td>FUR-BO-10004695</td>\n",
       "      <td>Furniture</td>\n",
       "      <td>Bookcases</td>\n",
       "      <td>O'Sullivan 2-Door Barrister Bookcase in Odessa...</td>\n",
       "      <td>452.450</td>\n",
       "      <td>5</td>\n",
       "      <td>0.5</td>\n",
       "      <td>-244.3230</td>\n",
       "      <td>Yes</td>\n",
       "      <td>Chuck Magee</td>\n",
       "    </tr>\n",
       "    <tr>\n",
       "      <th>2</th>\n",
       "      <td>215</td>\n",
       "      <td>CA-2015-146262</td>\n",
       "      <td>02-01-2015</td>\n",
       "      <td>09-01-2015</td>\n",
       "      <td>Standard Class</td>\n",
       "      <td>VW-21775</td>\n",
       "      <td>Victoria Wilson</td>\n",
       "      <td>Corporate</td>\n",
       "      <td>United States</td>\n",
       "      <td>Medina</td>\n",
       "      <td>Ohio</td>\n",
       "      <td>44256</td>\n",
       "      <td>East</td>\n",
       "      <td>TEC-PH-10002844</td>\n",
       "      <td>Technology</td>\n",
       "      <td>Phones</td>\n",
       "      <td>Speck Products Candyshell Flip Case</td>\n",
       "      <td>62.982</td>\n",
       "      <td>3</td>\n",
       "      <td>0.4</td>\n",
       "      <td>-14.6958</td>\n",
       "      <td>Yes</td>\n",
       "      <td>Chuck Magee</td>\n",
       "    </tr>\n",
       "  </tbody>\n",
       "</table>\n",
       "</div>"
      ],
      "text/plain": [
       "   row_id        order_id  order_date   ship_date       ship_mode customer_id  \\\n",
       "0     213  CA-2015-146262  02-01-2015  09-01-2015  Standard Class    VW-21775   \n",
       "1     214  CA-2015-146262  02-01-2015  09-01-2015  Standard Class    VW-21775   \n",
       "2     215  CA-2015-146262  02-01-2015  09-01-2015  Standard Class    VW-21775   \n",
       "\n",
       "     customer_name    segment        country    city state  postal_code  \\\n",
       "0  Victoria Wilson  Corporate  United States  Medina  Ohio        44256   \n",
       "1  Victoria Wilson  Corporate  United States  Medina  Ohio        44256   \n",
       "2  Victoria Wilson  Corporate  United States  Medina  Ohio        44256   \n",
       "\n",
       "  region       product_id         category sub_category  \\\n",
       "0   East  OFF-LA-10004544  Office Supplies       Labels   \n",
       "1   East  FUR-BO-10004695        Furniture    Bookcases   \n",
       "2   East  TEC-PH-10002844       Technology       Phones   \n",
       "\n",
       "                                        product_name    sales  quantity  \\\n",
       "0                                          Avery 505   23.680         2   \n",
       "1  O'Sullivan 2-Door Barrister Bookcase in Odessa...  452.450         5   \n",
       "2                Speck Products Candyshell Flip Case   62.982         3   \n",
       "\n",
       "   discount    profit returned       person  \n",
       "0       0.2    8.8800      Yes  Chuck Magee  \n",
       "1       0.5 -244.3230      Yes  Chuck Magee  \n",
       "2       0.4  -14.6958      Yes  Chuck Magee  "
      ]
     },
     "execution_count": 39,
     "metadata": {},
     "output_type": "execute_result"
    }
   ],
   "source": [
    "full_df.head(3)"
   ]
  },
  {
   "cell_type": "code",
   "execution_count": 40,
   "id": "4690c702",
   "metadata": {},
   "outputs": [
    {
     "data": {
      "text/plain": [
       "customer_name\n",
       "Tamara Chand          18429.900\n",
       "Raymond Buch          15117.339\n",
       "Tom Ashbrook          13807.770\n",
       "Adrian Barton         13365.911\n",
       "Christopher Conant    12129.072\n",
       "Sanjit Engle          11938.708\n",
       "Caroline Jumper       11164.974\n",
       "Hunter Lopez          10979.108\n",
       "Todd Sumrall          10639.149\n",
       "Seth Vernon           10270.480\n",
       "Name: sales, dtype: float64"
      ]
     },
     "execution_count": 40,
     "metadata": {},
     "output_type": "execute_result"
    }
   ],
   "source": [
    "top_customers = full_df.groupby('customer_name')['sales'].sum().sort_values(ascending=False).head(10)\n",
    "top_customers"
   ]
  },
  {
   "cell_type": "code",
   "execution_count": 41,
   "id": "96a6a158",
   "metadata": {},
   "outputs": [
    {
     "data": {
      "image/png": "[encoded data removed]",
      "text/plain": [
       "<Figure size 640x480 with 1 Axes>"
      ]
     },
     "metadata": {},
     "output_type": "display_data"
    }
   ],
   "source": [
    "top_customers.plot(x=top_customers.index, y=top_customers.values, kind='bar', color = 'green', legend=True, title=\"Top 10 customers \")\n",
    "plt.show()"
   ]
  },
  {
   "cell_type": "code",
   "execution_count": 42,
   "id": "63e46e60",
   "metadata": {},
   "outputs": [
    {
     "data": {
      "text/plain": [
       "array(['Corporate', 'Consumer', 'Home Office'], dtype=object)"
      ]
     },
     "execution_count": 42,
     "metadata": {},
     "output_type": "execute_result"
    }
   ],
   "source": [
    "full_df.segment.unique()"
   ]
  },
  {
   "cell_type": "code",
   "execution_count": 43,
   "id": "348b998c",
   "metadata": {},
   "outputs": [
    {
     "data": {
      "text/plain": [
       "segment\n",
       "Consumer       4121\n",
       "Corporate      2409\n",
       "Home Office    1471\n",
       "Name: count, dtype: int64"
      ]
     },
     "execution_count": 43,
     "metadata": {},
     "output_type": "execute_result"
    }
   ],
   "source": [
    "full_df.segment.value_counts()"
   ]
  },
  {
   "cell_type": "code",
   "execution_count": 44,
   "id": "c2b5f81a",
   "metadata": {},
   "outputs": [
    {
     "data": {
      "text/html": [
       "<div>\n",
       "<style scoped>\n",
       "    .dataframe tbody tr th:only-of-type {\n",
       "        vertical-align: middle;\n",
       "    }\n",
       "\n",
       "    .dataframe tbody tr th {\n",
       "        vertical-align: top;\n",
       "    }\n",
       "\n",
       "    .dataframe thead th {\n",
       "        text-align: right;\n",
       "    }\n",
       "</style>\n",
       "<table border=\"1\" class=\"dataframe\">\n",
       "  <thead>\n",
       "    <tr style=\"text-align: right;\">\n",
       "      <th></th>\n",
       "      <th>sales</th>\n",
       "      <th>profit</th>\n",
       "    </tr>\n",
       "    <tr>\n",
       "      <th>segment</th>\n",
       "      <th></th>\n",
       "      <th></th>\n",
       "    </tr>\n",
       "  </thead>\n",
       "  <tbody>\n",
       "    <tr>\n",
       "      <th>Consumer</th>\n",
       "      <td>895304.5324</td>\n",
       "      <td>109799.3588</td>\n",
       "    </tr>\n",
       "    <tr>\n",
       "      <th>Corporate</th>\n",
       "      <td>577711.4931</td>\n",
       "      <td>78465.8571</td>\n",
       "    </tr>\n",
       "    <tr>\n",
       "      <th>Home Office</th>\n",
       "      <td>339937.3367</td>\n",
       "      <td>48587.8317</td>\n",
       "    </tr>\n",
       "  </tbody>\n",
       "</table>\n",
       "</div>"
      ],
      "text/plain": [
       "                   sales       profit\n",
       "segment                              \n",
       "Consumer     895304.5324  109799.3588\n",
       "Corporate    577711.4931   78465.8571\n",
       "Home Office  339937.3367   48587.8317"
      ]
     },
     "execution_count": 44,
     "metadata": {},
     "output_type": "execute_result"
    }
   ],
   "source": [
    "top_contributer = full_df.groupby('segment')[['sales', 'profit']].sum()\n",
    "top_contributer"
   ]
  },
  {
   "cell_type": "code",
   "execution_count": 45,
   "id": "a2deb4f3",
   "metadata": {},
   "outputs": [
    {
     "data": {
      "image/png": "[encoded data removed]",
      "text/plain": [
       "<Figure size 800x500 with 1 Axes>"
      ]
     },
     "metadata": {},
     "output_type": "display_data"
    }
   ],
   "source": [
    "segments = top_contributer.index\n",
    "sales = top_contributer['sales'].values\n",
    "profits = top_contributer['profit'].values\n",
    "\n",
    "x = np.arange(len(segments))\n",
    "width_len = 0.2\n",
    "\n",
    "fig, ax = plt.subplots(figsize= (8,5))\n",
    "ax.bar(x - width_len/2, sales, width_len, label= \"sales\", color='skyblue')\n",
    "ax.bar(x + width_len/2, profits, width_len, label= \"profit\", color='orange')\n",
    "\n",
    "ax.set_xticks(x)\n",
    "ax.set_xticklabels(segments)\n",
    "ax.set_ylabel(\"Amount ($)\")\n",
    "ax.set_title(\"Sales and Profit by Segment\")\n",
    "ax.legend()\n",
    "\n",
    "plt.show()"
   ]
  },
  {
   "cell_type": "code",
   "execution_count": null,
   "id": "56787c48",
   "metadata": {},
   "outputs": [],
   "source": []
  }
 ],
 "metadata": {
  "kernelspec": {
   "display_name": "base",
   "language": "python",
   "name": "python3"
  },
  "language_info": {
   "codemirror_mode": {
    "name": "ipython",
    "version": 3
   },
   "file_extension": ".py",
   "mimetype": "text/x-python",
   "name": "python",
   "nbconvert_exporter": "python",
   "pygments_lexer": "ipython3",
   "version": "3.13.5"
  }
 },
 "nbformat": 4,
 "nbformat_minor": 5
}
